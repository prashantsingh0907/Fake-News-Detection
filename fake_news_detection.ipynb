{
 "cells": [
  {
   "cell_type": "markdown",
   "id": "4640867b",
   "metadata": {},
   "source": [
    "✅ Cell 1: Import Libraries"
   ]
  },
  {
   "cell_type": "code",
   "execution_count": 1,
   "id": "c103ed88",
   "metadata": {},
   "outputs": [],
   "source": [
    "import pandas as pd\n",
    "import numpy as np\n",
    "import matplotlib.pyplot as plt\n",
    "import seaborn as sns\n",
    "import string\n",
    "\n",
    "from sklearn.model_selection import train_test_split\n",
    "from sklearn.feature_extraction.text import TfidfVectorizer\n",
    "from sklearn.linear_model import PassiveAggressiveClassifier\n",
    "from sklearn.metrics import accuracy_score, confusion_matrix, classification_report\n"
   ]
  },
  {
   "cell_type": "markdown",
   "id": "1784eaad",
   "metadata": {},
   "source": [
    "✅ Cell 2: Load Dataset"
   ]
  },
  {
   "cell_type": "code",
   "execution_count": 2,
   "id": "83bfd42d",
   "metadata": {},
   "outputs": [],
   "source": [
    "# Load true and fake news data\n",
    "true_df = pd.read_csv('../data/True.csv')\n",
    "fake_df = pd.read_csv('../data/Fake.csv')\n"
   ]
  },
  {
   "cell_type": "markdown",
   "id": "f4f3dedf",
   "metadata": {},
   "source": [
    "✅ Cell 3: Add Labels and Merge Data"
   ]
  },
  {
   "cell_type": "code",
   "execution_count": 3,
   "id": "2e52a5f0",
   "metadata": {},
   "outputs": [],
   "source": [
    "# Label the data\n",
    "true_df['label'] = 1  # Real news\n",
    "fake_df['label'] = 0  # Fake news\n",
    "\n",
    "# Combine and shuffle\n",
    "df = pd.concat([true_df, fake_df])\n",
    "df = df.sample(frac=1).reset_index(drop=True)\n"
   ]
  },
  {
   "cell_type": "markdown",
   "id": "976a94fb",
   "metadata": {},
   "source": [
    "✅ Cell 4: Basic Exploration"
   ]
  },
  {
   "cell_type": "code",
   "execution_count": 4,
   "id": "1522191b",
   "metadata": {},
   "outputs": [
    {
     "name": "stdout",
     "output_type": "stream",
     "text": [
      "Dataset shape: (44898, 5)\n",
      "\n",
      "Sample data:\n"
     ]
    },
    {
     "data": {
      "text/html": [
       "<div>\n",
       "<style scoped>\n",
       "    .dataframe tbody tr th:only-of-type {\n",
       "        vertical-align: middle;\n",
       "    }\n",
       "\n",
       "    .dataframe tbody tr th {\n",
       "        vertical-align: top;\n",
       "    }\n",
       "\n",
       "    .dataframe thead th {\n",
       "        text-align: right;\n",
       "    }\n",
       "</style>\n",
       "<table border=\"1\" class=\"dataframe\">\n",
       "  <thead>\n",
       "    <tr style=\"text-align: right;\">\n",
       "      <th></th>\n",
       "      <th>title</th>\n",
       "      <th>text</th>\n",
       "      <th>subject</th>\n",
       "      <th>date</th>\n",
       "      <th>label</th>\n",
       "    </tr>\n",
       "  </thead>\n",
       "  <tbody>\n",
       "    <tr>\n",
       "      <th>0</th>\n",
       "      <td>Turkey is 'deeply concerned' about cases of it...</td>\n",
       "      <td>ANKARA (Reuters) - Turkey is  deeply concerned...</td>\n",
       "      <td>worldnews</td>\n",
       "      <td>November 6, 2017</td>\n",
       "      <td>1</td>\n",
       "    </tr>\n",
       "    <tr>\n",
       "      <th>1</th>\n",
       "      <td>Hyatt heir Pritzker opens Democratic bid to un...</td>\n",
       "      <td>CHICAGO (Reuters) - Billionaire investor J.B. ...</td>\n",
       "      <td>politicsNews</td>\n",
       "      <td>April 6, 2017</td>\n",
       "      <td>1</td>\n",
       "    </tr>\n",
       "    <tr>\n",
       "      <th>2</th>\n",
       "      <td>TOMI LAHREN: “AFTER 8 YEARS…We were part of a ...</td>\n",
       "      <td></td>\n",
       "      <td>politics</td>\n",
       "      <td>Jan 26, 2017</td>\n",
       "      <td>0</td>\n",
       "    </tr>\n",
       "    <tr>\n",
       "      <th>3</th>\n",
       "      <td>Boiler Room EP #109 – It’s a Wonderfull Life</td>\n",
       "      <td>Tune in to the Alternate Current Radio Network...</td>\n",
       "      <td>Middle-east</td>\n",
       "      <td>May 19, 2017</td>\n",
       "      <td>0</td>\n",
       "    </tr>\n",
       "    <tr>\n",
       "      <th>4</th>\n",
       "      <td>WATCH: Obama DRAGS Trump In Epic Fashion On T...</td>\n",
       "      <td>President Obama let loose on Donald Trump, des...</td>\n",
       "      <td>News</td>\n",
       "      <td>August 2, 2016</td>\n",
       "      <td>0</td>\n",
       "    </tr>\n",
       "  </tbody>\n",
       "</table>\n",
       "</div>"
      ],
      "text/plain": [
       "                                               title  \\\n",
       "0  Turkey is 'deeply concerned' about cases of it...   \n",
       "1  Hyatt heir Pritzker opens Democratic bid to un...   \n",
       "2  TOMI LAHREN: “AFTER 8 YEARS…We were part of a ...   \n",
       "3       Boiler Room EP #109 – It’s a Wonderfull Life   \n",
       "4   WATCH: Obama DRAGS Trump In Epic Fashion On T...   \n",
       "\n",
       "                                                text       subject  \\\n",
       "0  ANKARA (Reuters) - Turkey is  deeply concerned...     worldnews   \n",
       "1  CHICAGO (Reuters) - Billionaire investor J.B. ...  politicsNews   \n",
       "2                                                         politics   \n",
       "3  Tune in to the Alternate Current Radio Network...   Middle-east   \n",
       "4  President Obama let loose on Donald Trump, des...          News   \n",
       "\n",
       "                date  label  \n",
       "0  November 6, 2017       1  \n",
       "1     April 6, 2017       1  \n",
       "2       Jan 26, 2017      0  \n",
       "3       May 19, 2017      0  \n",
       "4     August 2, 2016      0  "
      ]
     },
     "execution_count": 4,
     "metadata": {},
     "output_type": "execute_result"
    }
   ],
   "source": [
    "# Display some basic info\n",
    "print(\"Dataset shape:\", df.shape)\n",
    "print(\"\\nSample data:\")\n",
    "df.head()\n"
   ]
  },
  {
   "cell_type": "markdown",
   "id": "10997ac5",
   "metadata": {},
   "source": [
    "✅ Cell 5: Combine Text and Preprocess"
   ]
  },
  {
   "cell_type": "code",
   "execution_count": 5,
   "id": "e711a9d3",
   "metadata": {},
   "outputs": [],
   "source": [
    "# Combine title and content into one text field\n",
    "df['text'] = df['title'] + \" \" + df['text']\n"
   ]
  },
  {
   "cell_type": "markdown",
   "id": "b3abca1c",
   "metadata": {},
   "source": [
    "✅ Cell 6: Clean Text Function"
   ]
  },
  {
   "cell_type": "code",
   "execution_count": 6,
   "id": "9a8cb922",
   "metadata": {},
   "outputs": [],
   "source": [
    "# Basic text cleaning\n",
    "def clean_text(text):\n",
    "    text = text.lower()\n",
    "    text = ''.join([char for char in text if char not in string.punctuation])\n",
    "    return text\n",
    "\n",
    "df['text'] = df['text'].apply(clean_text)\n"
   ]
  },
  {
   "cell_type": "markdown",
   "id": "fa8575d3",
   "metadata": {},
   "source": [
    "✅ Cell 7: Split Data"
   ]
  },
  {
   "cell_type": "code",
   "execution_count": 7,
   "id": "cd35c106",
   "metadata": {},
   "outputs": [],
   "source": [
    "# Define features and target\n",
    "X = df['text']\n",
    "y = df['label']\n",
    "\n",
    "# Train-test split\n",
    "X_train, X_test, y_train, y_test = train_test_split(X, y, test_size=0.2, random_state=42)\n"
   ]
  },
  {
   "cell_type": "markdown",
   "id": "5e276921",
   "metadata": {},
   "source": [
    "✅ Cell 8: TF-IDF Vectorization"
   ]
  },
  {
   "cell_type": "code",
   "execution_count": 8,
   "id": "6bbf22f0",
   "metadata": {},
   "outputs": [],
   "source": [
    "# Initialize TF-IDF Vectorizer\n",
    "vectorizer = TfidfVectorizer(stop_words='english', max_df=0.7)\n",
    "\n",
    "# Fit and transform\n",
    "X_train_vec = vectorizer.fit_transform(X_train)\n",
    "X_test_vec = vectorizer.transform(X_test)\n"
   ]
  },
  {
   "cell_type": "markdown",
   "id": "d8342256",
   "metadata": {},
   "source": [
    "✅ Cell 9: Train Model"
   ]
  },
  {
   "cell_type": "code",
   "execution_count": 14,
   "id": "f56af648",
   "metadata": {},
   "outputs": [],
   "source": [
    "from sklearn.linear_model import LogisticRegression\n",
    "from sklearn.model_selection import GridSearchCV\n",
    "\n",
    "param_grid = {\n",
    "    'C': [0.1, 1, 10],\n",
    "    'solver': ['liblinear'],\n",
    "    'class_weight': ['balanced']\n",
    "}\n",
    "\n",
    "grid_model = GridSearchCV(LogisticRegression(max_iter=1000), param_grid, cv=5, scoring='accuracy', n_jobs=-1)\n",
    "grid_model.fit(X_train_vec, y_train)\n",
    "\n",
    "model = grid_model.best_estimator_\n",
    "\n",
    "# Save the model\n",
    "import pickle\n",
    "with open(\"../models/fake_news_model.pkl\", \"wb\") as f:\n",
    "    pickle.dump(model, f)\n"
   ]
  },
  {
   "cell_type": "markdown",
   "id": "f33b94e1",
   "metadata": {},
   "source": [
    "✅ Cell 10: Predict and Evaluate"
   ]
  },
  {
   "cell_type": "code",
   "execution_count": 10,
   "id": "1e2333f3",
   "metadata": {},
   "outputs": [
    {
     "name": "stdout",
     "output_type": "stream",
     "text": [
      "Accuracy: 0.9947661469933184\n"
     ]
    }
   ],
   "source": [
    "# Predict on test data\n",
    "y_pred = model.predict(X_test_vec)\n",
    "\n",
    "# Accuracy\n",
    "print(\"Accuracy:\", accuracy_score(y_test, y_pred))\n"
   ]
  },
  {
   "cell_type": "markdown",
   "id": "f84e82cf",
   "metadata": {},
   "source": [
    "✅ Cell 11: Confusion Matrix & Report"
   ]
  },
  {
   "cell_type": "code",
   "execution_count": 11,
   "id": "d27e82a7",
   "metadata": {},
   "outputs": [
    {
     "data": {
      "image/png": "[encoded data removed]",
      "text/plain": [
       "<Figure size 640x480 with 2 Axes>"
      ]
     },
     "metadata": {},
     "output_type": "display_data"
    },
    {
     "name": "stdout",
     "output_type": "stream",
     "text": [
      "              precision    recall  f1-score   support\n",
      "\n",
      "           0       0.99      1.00      0.99      4672\n",
      "           1       0.99      0.99      0.99      4308\n",
      "\n",
      "    accuracy                           0.99      8980\n",
      "   macro avg       0.99      0.99      0.99      8980\n",
      "weighted avg       0.99      0.99      0.99      8980\n",
      "\n"
     ]
    }
   ],
   "source": [
    "# Confusion Matrix\n",
    "cm = confusion_matrix(y_test, y_pred)\n",
    "sns.heatmap(cm, annot=True, fmt='d', cmap='Blues')\n",
    "plt.xlabel(\"Predicted\")\n",
    "plt.ylabel(\"Actual\")\n",
    "plt.title(\"Confusion Matrix\")\n",
    "plt.show()\n",
    "\n",
    "# Classification report\n",
    "print(classification_report(y_test, y_pred))\n"
   ]
  },
  {
   "cell_type": "markdown",
   "id": "f329a70a",
   "metadata": {},
   "source": [
    "✅ Cell 12: Save Model and Vectorizer"
   ]
  },
  {
   "cell_type": "code",
   "execution_count": 12,
   "id": "ff3dda56",
   "metadata": {},
   "outputs": [],
   "source": [
    "import pickle\n",
    "\n",
    "# Save the model\n",
    "with open(\"../models/fake_news_model.pkl\", \"wb\") as f:\n",
    "    pickle.dump(model, f)\n",
    "\n",
    "# Save the vectorizer\n",
    "with open(\"../models/tfidf_vectorizer.pkl\", \"wb\") as f:\n",
    "    pickle.dump(vectorizer, f)\n"
   ]
  }
 ],
 "metadata": {
  "kernelspec": {
   "display_name": "venv",
   "language": "python",
   "name": "python3"
  },
  "language_info": {
   "codemirror_mode": {
    "name": "ipython",
    "version": 3
   },
   "file_extension": ".py",
   "mimetype": "text/x-python",
   "name": "python",
   "nbconvert_exporter": "python",
   "pygments_lexer": "ipython3",
   "version": "3.13.2"
  }
 },
 "nbformat": 4,
 "nbformat_minor": 5
}
